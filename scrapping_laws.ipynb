{
 "cells": [
  {
   "cell_type": "code",
   "execution_count": 2,
   "metadata": {},
   "outputs": [],
   "source": [
    "import os \n",
    "from selenium import webdriver\n",
    "from selenium.webdriver.common.by import By\n",
    "from selenium.webdriver.support.ui import Select\n",
    "from collections import defaultdict"
   ]
  },
  {
   "cell_type": "code",
   "execution_count": 3,
   "metadata": {},
   "outputs": [],
   "source": [
    "url = 'https://servicios.infoleg.gob.ar/infolegInternet/buscarNormas.do'"
   ]
  },
  {
   "cell_type": "code",
   "execution_count": 10,
   "metadata": {},
   "outputs": [],
   "source": [
    "driver = webdriver.Firefox()\n",
    "\n",
    "href_dic = defaultdict(list)\n",
    "resultados = defaultdict(str)\n",
    "\n",
    "for year in range(1880, 2000, 1):\n",
    "    driver.get(url)\n",
    "    dropdown = driver.find_element(By.NAME, 'tipoNorma')\n",
    "    select = Select(dropdown)\n",
    "    select.select_by_visible_text('Ley')\n",
    "    \n",
    "    dropdown = driver.find_element(By.NAME, 'diaPubDesde')\n",
    "    dropdown.click()\n",
    "    dropdown.send_keys(\"1\")\n",
    "    \n",
    "    dropdown = driver.find_element(By.NAME, 'mesPubDesde')\n",
    "    select = Select(dropdown)\n",
    "    select.select_by_visible_text('Ene') \n",
    "    \n",
    "    dropdown = driver.find_element(By.NAME, 'anioPubDesde')\n",
    "    dropdown.click()\n",
    "    dropdown.send_keys(year)\n",
    "    \n",
    "    if year == 2024:\n",
    "        dropdown = driver.find_element(By.NAME, 'diaPubHasta')\n",
    "        dropdown.click()\n",
    "        dropdown.send_keys(\"7\")\n",
    "        \n",
    "        dropdown = driver.find_element(By.NAME, 'mesPubHasta')\n",
    "        select = Select(dropdown)\n",
    "        select.select_by_visible_text('Nov') \n",
    "        \n",
    "        dropdown = driver.find_element(By.NAME, 'anioPubHasta')\n",
    "        dropdown.click()\n",
    "        dropdown.send_keys(year)\n",
    "    else:\n",
    "        dropdown = driver.find_element(By.NAME, 'diaPubHasta')\n",
    "        dropdown.click()\n",
    "        dropdown.send_keys(\"31\")\n",
    "        \n",
    "        dropdown = driver.find_element(By.NAME, 'mesPubHasta')\n",
    "        select = Select(dropdown)\n",
    "        select.select_by_visible_text('Dic') \n",
    "        \n",
    "        dropdown = driver.find_element(By.NAME, 'anioPubHasta')\n",
    "        dropdown.click()\n",
    "        dropdown.send_keys(year)\n",
    "    \n",
    "    try: \n",
    "        search_button = driver.find_element(By.XPATH, '//*[@id=\"busquedasBot\"]/input[1]')\n",
    "        search_button.click()\n",
    "        \n",
    "        q_resultados = driver.find_element(By.XPATH, '//*[@id=\"paging_cantidad\"]')\n",
    "        resultados[year] = q_resultados.text\n",
    "        \n",
    "        for page in range(2, 2000, 1):\n",
    "            try:\n",
    "                links = driver.find_elements(By.XPATH, '/html/body/form/div/table/tbody/tr/td[1]/a')\n",
    "                \n",
    "                for link in links:\n",
    "                    ley = link.text\n",
    "                    href = link.get_attribute('href')\n",
    "                    href_dic[ley] = href\n",
    "                    \n",
    "                next_button = driver.find_element(By.XPATH, f'//*[@id=\"paging\"]/div/a[{page}]')\n",
    "                next_button.click()\n",
    "            except Exception as e:\n",
    "                break\n",
    "    except Exception as e:\n",
    "        continue\n",
    "        \n",
    "driver.quit()"
   ]
  },
  {
   "cell_type": "code",
   "execution_count": 11,
   "metadata": {},
   "outputs": [
    {
     "name": "stdout",
     "output_type": "stream",
     "text": [
      "Cantidad de Normas Encontradas: 17 en 1 página.\n",
      "Cantidad de Normas Encontradas: 95 en 2 páginas.\n",
      "Cantidad de Normas Encontradas: 86 en 2 páginas.\n",
      "Cantidad de Normas Encontradas: 58 en 2 páginas.\n",
      "Cantidad de Normas Encontradas: 46 en 1 página.\n",
      "Cantidad de Normas Encontradas: 77 en 2 páginas.\n",
      "Cantidad de Normas Encontradas: 78 en 2 páginas.\n",
      "Cantidad de Normas Encontradas: 52 en 2 páginas.\n",
      "Cantidad de Normas Encontradas: 86 en 2 páginas.\n",
      "Cantidad de Normas Encontradas: 115 en 3 páginas.\n",
      "Cantidad de Normas Encontradas: 245 en 5 páginas.\n",
      "Cantidad de Normas Encontradas: 314 en 7 páginas.\n",
      "Cantidad de Normas Encontradas: 89 en 2 páginas.\n",
      "Cantidad de Normas Encontradas: 159 en 4 páginas.\n",
      "Cantidad de Normas Encontradas: 480 en 10 páginas.\n",
      "Cantidad de Normas Encontradas: 543 en 11 páginas.\n",
      "Cantidad de Normas Encontradas: 910 en 19 páginas.\n",
      "Cantidad de Normas Encontradas: 135 en 3 páginas.\n",
      "Cantidad de Normas Encontradas: 668 en 14 páginas.\n",
      "Cantidad de Normas Encontradas: 300 en 6 páginas.\n",
      "Cantidad de Normas Encontradas: 231 en 5 páginas.\n",
      "Cantidad de Normas Encontradas: 294 en 6 páginas.\n",
      "Cantidad de Normas Encontradas: 148 en 3 páginas.\n",
      "Cantidad de Normas Encontradas: 78 en 2 páginas.\n",
      "Cantidad de Normas Encontradas: 314 en 7 páginas.\n",
      "Cantidad de Normas Encontradas: 197 en 4 páginas.\n",
      "Cantidad de Normas Encontradas: 87 en 2 páginas.\n",
      "Cantidad de Normas Encontradas: 39 en 1 página.\n",
      "Cantidad de Normas Encontradas: 41 en 1 página.\n",
      "Cantidad de Normas Encontradas: 83 en 2 páginas.\n",
      "Cantidad de Normas Encontradas: 31 en 1 página.\n",
      "Cantidad de Normas Encontradas: 11 en 1 página.\n",
      "Cantidad de Normas Encontradas: 48 en 1 página.\n",
      "Cantidad de Normas Encontradas: 20 en 1 página.\n",
      "Cantidad de Normas Encontradas: 125 en 3 páginas.\n",
      "Cantidad de Normas Encontradas: 21 en 1 página.\n",
      "Cantidad de Normas Encontradas: 5 en 1 página.\n",
      "Cantidad de Normas Encontradas: 73 en 2 páginas.\n",
      "Cantidad de Normas Encontradas: 80 en 2 páginas.\n",
      "Cantidad de Normas Encontradas: 358 en 8 páginas.\n",
      "Cantidad de Normas Encontradas: 155 en 4 páginas.\n",
      "Cantidad de Normas Encontradas: 34 en 1 página.\n",
      "Cantidad de Normas Encontradas: 25 en 1 página.\n",
      "Cantidad de Normas Encontradas: 187 en 4 páginas.\n",
      "Cantidad de Normas Encontradas: 59 en 2 páginas.\n",
      "Cantidad de Normas Encontradas: 27 en 1 página.\n",
      "Cantidad de Normas Encontradas: 69 en 2 páginas.\n",
      "Cantidad de Normas Encontradas: 86 en 2 páginas.\n",
      "Cantidad de Normas Encontradas: 2 en 1 página.\n",
      "Cantidad de Normas Encontradas: 3 en 1 página.\n",
      "Cantidad de Normas Encontradas: 43 en 1 página.\n",
      "Cantidad de Normas Encontradas: 310 en 7 páginas.\n",
      "Cantidad de Normas Encontradas: 281 en 6 páginas.\n",
      "Cantidad de Normas Encontradas: 128 en 3 páginas.\n",
      "Cantidad de Normas Encontradas: 123 en 3 páginas.\n",
      "Cantidad de Normas Encontradas: 84 en 2 páginas.\n",
      "Cantidad de Normas Encontradas: 62 en 2 páginas.\n",
      "Cantidad de Normas Encontradas: 101 en 3 páginas.\n",
      "Cantidad de Normas Encontradas: 102 en 3 páginas.\n",
      "Cantidad de Normas Encontradas: 31 en 1 página.\n",
      "Cantidad de Normas Encontradas: 1 en 1 página.\n",
      "Cantidad de Normas Encontradas: 2 en 1 página.\n",
      "Cantidad de Normas Encontradas: 262 en 6 páginas.\n",
      "Cantidad de Normas Encontradas: 239 en 5 páginas.\n",
      "Cantidad de Normas Encontradas: 629 en 13 páginas.\n",
      "Cantidad de Normas Encontradas: 288 en 6 páginas.\n",
      "Cantidad de Normas Encontradas: 244 en 5 páginas.\n",
      "Cantidad de Normas Encontradas: 4 en 1 página.\n",
      "Cantidad de Normas Encontradas: 134 en 3 páginas.\n",
      "Cantidad de Normas Encontradas: 251 en 6 páginas.\n",
      "Cantidad de Normas Encontradas: 206 en 5 páginas.\n",
      "Cantidad de Normas Encontradas: 370 en 8 páginas.\n",
      "Cantidad de Normas Encontradas: 219 en 5 páginas.\n",
      "Cantidad de Normas Encontradas: 253 en 6 páginas.\n",
      "Cantidad de Normas Encontradas: 347 en 7 páginas.\n",
      "Cantidad de Normas Encontradas: 491 en 10 páginas.\n",
      "Cantidad de Normas Encontradas: 620 en 13 páginas.\n",
      "Cantidad de Normas Encontradas: 521 en 11 páginas.\n",
      "Cantidad de Normas Encontradas: 316 en 7 páginas.\n",
      "Cantidad de Normas Encontradas: 302 en 7 páginas.\n",
      "Cantidad de Normas Encontradas: 235 en 5 páginas.\n",
      "Cantidad de Normas Encontradas: 221 en 5 páginas.\n",
      "Cantidad de Normas Encontradas: 197 en 4 páginas.\n",
      "Cantidad de Normas Encontradas: 196 en 4 páginas.\n",
      "Cantidad de Normas Encontradas: 226 en 5 páginas.\n",
      "Cantidad de Normas Encontradas: 158 en 4 páginas.\n",
      "Cantidad de Normas Encontradas: 175 en 4 páginas.\n",
      "Cantidad de Normas Encontradas: 335 en 7 páginas.\n",
      "Cantidad de Normas Encontradas: 110 en 3 páginas.\n",
      "Cantidad de Normas Encontradas: 134 en 3 páginas.\n",
      "Cantidad de Normas Encontradas: 64 en 2 páginas.\n",
      "Cantidad de Normas Encontradas: 156 en 4 páginas.\n",
      "Cantidad de Normas Encontradas: 118 en 3 páginas.\n",
      "Cantidad de Normas Encontradas: 103 en 3 páginas.\n",
      "Cantidad de Normas Encontradas: 136 en 3 páginas.\n",
      "Cantidad de Normas Encontradas: 130 en 3 páginas.\n",
      "Cantidad de Normas Encontradas: 137 en 3 páginas.\n",
      "Cantidad de Normas Encontradas: 103 en 3 páginas.\n",
      "Cantidad de Normas Encontradas: 117 en 3 páginas.\n",
      "Cantidad de Normas Encontradas: 173 en 4 páginas.\n",
      "Cantidad de Normas Encontradas: 144 en 3 páginas.\n",
      "Cantidad de Normas Encontradas: 152 en 4 páginas.\n",
      "Cantidad de Normas Encontradas: 133 en 3 páginas.\n",
      "Cantidad de Normas Encontradas: 162 en 4 páginas.\n"
     ]
    }
   ],
   "source": [
    "for key, value in resultados.items():\n",
    "    print(value)"
   ]
  },
  {
   "cell_type": "code",
   "execution_count": 12,
   "metadata": {},
   "outputs": [
    {
     "data": {
      "text/plain": [
       "17942"
      ]
     },
     "execution_count": 12,
     "metadata": {},
     "output_type": "execute_result"
    }
   ],
   "source": [
    "len(href_dic)"
   ]
  },
  {
   "cell_type": "code",
   "execution_count": 13,
   "metadata": {},
   "outputs": [],
   "source": [
    "import requests\n",
    "import tqdm\n",
    "import re\n",
    "import html\n",
    "from bs4 import BeautifulSoup"
   ]
  },
  {
   "cell_type": "code",
   "execution_count": 14,
   "metadata": {},
   "outputs": [],
   "source": [
    "driver = webdriver.Firefox()\n",
    "\n",
    "normas = defaultdict(list)\n",
    "for ley, url in href_dic.items():\n",
    "    try:\n",
    "        driver.get(url)\n",
    "        links = driver.find_elements(By.TAG_NAME, 'a')\n",
    "        fecha = driver.find_element(By.XPATH, '/html/body/div/div[2]/div/div/p[1]/span').text\n",
    "        for link in links:\n",
    "            href = link.get_attribute('href')\n",
    "            if href.endswith('norma.htm'):\n",
    "            \tnormas[ley] = [fecha, href]\n",
    "             \n",
    "    except Exception as e:\n",
    "        continue\n",
    "            \n",
    "driver.quit()"
   ]
  },
  {
   "cell_type": "code",
   "execution_count": 15,
   "metadata": {},
   "outputs": [
    {
     "data": {
      "text/plain": [
       "4735"
      ]
     },
     "execution_count": 15,
     "metadata": {},
     "output_type": "execute_result"
    }
   ],
   "source": [
    "len(normas)"
   ]
  },
  {
   "cell_type": "code",
   "execution_count": 17,
   "metadata": {},
   "outputs": [
    {
     "name": "stderr",
     "output_type": "stream",
     "text": [
      "100%|██████████| 4735/4735 [08:44<00:00,  9.02it/s]  \n"
     ]
    }
   ],
   "source": [
    "CLEANR = re.compile('<.*?>')\n",
    "for ley, (fecha, link) in tqdm.tqdm(normas.items()):\n",
    "    req = requests.get(link)\n",
    "    \n",
    "    soup = BeautifulSoup(req.text, 'html.parser')\n",
    "    text = soup.get_text(separator='\\n')\n",
    "    \n",
    "    with open(f'./output/{ley}_texto_{fecha[-4:]}.txt', 'w', encoding='utf-8') as f:\n",
    "        paragraphs = text.split('\\n')\n",
    "        filtered_paragraphs = [p for p in paragraphs if len(p.strip()) > 1] \n",
    "    \n",
    "        for para in filtered_paragraphs:\n",
    "            clean_text = re.sub(CLEANR, '', para)\n",
    "            clean_text = html.unescape(clean_text)\n",
    "            f.write(clean_text.strip() + '\\n\\n')\n"
   ]
  },
  {
   "cell_type": "code",
   "execution_count": null,
   "metadata": {},
   "outputs": [],
   "source": []
  }
 ],
 "metadata": {
  "kernelspec": {
   "display_name": "Python 3",
   "language": "python",
   "name": "python3"
  },
  "language_info": {
   "codemirror_mode": {
    "name": "ipython",
    "version": 3
   },
   "file_extension": ".py",
   "mimetype": "text/x-python",
   "name": "python",
   "nbconvert_exporter": "python",
   "pygments_lexer": "ipython3",
   "version": "3.12.6"
  }
 },
 "nbformat": 4,
 "nbformat_minor": 2
}
